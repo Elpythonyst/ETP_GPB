{
 "cells": [
  {
   "cell_type": "code",
   "execution_count": 1,
   "id": "950f19b6",
   "metadata": {},
   "outputs": [],
   "source": [
    "import pandas as pd\n",
    "import numpy as np\n",
    "import re\n",
    "\n",
    "#Заранее зададим форматирование для колонки ur_inn_kpp\n",
    "pd.options.display.float_format = '{:.0f}'.format"
   ]
  },
  {
   "cell_type": "code",
   "execution_count": 2,
   "id": "2fc4c589",
   "metadata": {
    "scrolled": true
   },
   "outputs": [],
   "source": [
    "# Загрузим csv-файл с данными для заданий 1 и 2\n",
    "dashboard_actions_df = pd.read_csv('dashbrd_action.csv', delimiter=';', decimal=',', index_col=False)"
   ]
  },
  {
   "cell_type": "markdown",
   "id": "9feea0e2",
   "metadata": {},
   "source": [
    "# 1) Для каждого топ 20 заказчиков по частоте размещений выбрать топ 3 поставщиков по числу побед\n",
    "\n",
    "   ### использовать поле actiontype_nm\n",
    "   ### считать уникальной компанию по полям ur_inn_kpp"
   ]
  },
  {
   "cell_type": "code",
   "execution_count": 3,
   "id": "beb42344",
   "metadata": {},
   "outputs": [],
   "source": [
    "# Копируем исходный датафрейм. Преобразуем время в подходящий формат\n",
    "actions_df = dashboard_actions_df.copy()"
   ]
  },
  {
   "cell_type": "code",
   "execution_count": 4,
   "id": "f2cb62ac",
   "metadata": {
    "scrolled": false
   },
   "outputs": [],
   "source": [
    "# Отберем топ-20 заказчиков по частоте размещений, \n",
    "# для этого в поле actiontype_nm оставим только заказчиков и сгруппируем по полю \"ur_inn_kpp\"\n",
    "actions_client_df =  actions_df[actions_df['actiontype_nm'] == 'заказчик']\n",
    "\n",
    "top20_clients = actions_client_df.groupby('ur_inn_kpp', as_index=False).agg({'actiontype_nm' : 'count'})\n",
    "\n",
    "#Отсортируем по убыванию, оставим топ-20, переименуем колонки\n",
    "top20_clients = top20_clients.sort_values('actiontype_nm', ascending=False).head(20).reset_index(drop=True)\n",
    "top20_clients.columns = ['ИНН', 'Размещений']"
   ]
  },
  {
   "cell_type": "code",
   "execution_count": 5,
   "id": "3ecd760d",
   "metadata": {
    "scrolled": true
   },
   "outputs": [
    {
     "data": {
      "text/html": [
       "<div>\n",
       "<style scoped>\n",
       "    .dataframe tbody tr th:only-of-type {\n",
       "        vertical-align: middle;\n",
       "    }\n",
       "\n",
       "    .dataframe tbody tr th {\n",
       "        vertical-align: top;\n",
       "    }\n",
       "\n",
       "    .dataframe thead th {\n",
       "        text-align: right;\n",
       "    }\n",
       "</style>\n",
       "<table border=\"1\" class=\"dataframe\">\n",
       "  <thead>\n",
       "    <tr style=\"text-align: right;\">\n",
       "      <th></th>\n",
       "      <th>ИНН</th>\n",
       "      <th>Размещений</th>\n",
       "    </tr>\n",
       "  </thead>\n",
       "  <tbody>\n",
       "    <tr>\n",
       "      <th>0</th>\n",
       "      <td>7810810000000000000</td>\n",
       "      <td>20415</td>\n",
       "    </tr>\n",
       "    <tr>\n",
       "      <th>1</th>\n",
       "      <td>6663010000000000000</td>\n",
       "      <td>18268</td>\n",
       "    </tr>\n",
       "    <tr>\n",
       "      <th>2</th>\n",
       "      <td>7817300000000000000</td>\n",
       "      <td>14182</td>\n",
       "    </tr>\n",
       "    <tr>\n",
       "      <th>3</th>\n",
       "      <td>5001000000000000000</td>\n",
       "      <td>10316</td>\n",
       "    </tr>\n",
       "    <tr>\n",
       "      <th>4</th>\n",
       "      <td>5501070000000000000</td>\n",
       "      <td>9902</td>\n",
       "    </tr>\n",
       "  </tbody>\n",
       "</table>\n",
       "</div>"
      ],
      "text/plain": [
       "                  ИНН  Размещений\n",
       "0 7810810000000000000       20415\n",
       "1 6663010000000000000       18268\n",
       "2 7817300000000000000       14182\n",
       "3 5001000000000000000       10316\n",
       "4 5501070000000000000        9902"
      ]
     },
     "execution_count": 5,
     "metadata": {},
     "output_type": "execute_result"
    }
   ],
   "source": [
    "# Отобразим топ-5 клиентов для понимания того, как выглядит массив данных\n",
    "top20_clients.head()"
   ]
  },
  {
   "cell_type": "code",
   "execution_count": 6,
   "id": "627368f9",
   "metadata": {},
   "outputs": [],
   "source": [
    "# Оставляем записи, в которых заказчиком являлся кто-то из топ-20, переименовываем колонку ИНН для последующего слияния\n",
    "actions_by_top20_clients_df = actions_client_df[(actions_client_df['ur_inn_kpp'].isin(top20_clients['ИНН']))]\n",
    "\n",
    "actions_by_top20_clients_df = actions_by_top20_clients_df.\\\n",
    "                                rename(columns= {'ur_inn_kpp' : 'ИНН Заказчика'})[['lot_id_bas','ИНН Заказчика']]"
   ]
  },
  {
   "cell_type": "code",
   "execution_count": 7,
   "id": "ef7924e8",
   "metadata": {},
   "outputs": [],
   "source": [
    "# Создадим массив записей о победителях\n",
    "actions_winner_df = actions_df[actions_df['actiontype_nm'] == 'победитель']"
   ]
  },
  {
   "cell_type": "code",
   "execution_count": 8,
   "id": "60127468",
   "metadata": {},
   "outputs": [],
   "source": [
    "# Соединяем победителей и топ-20 клиентов по лотам, группируем по паре ИНН заказчик-победитель\n",
    "actions_customers_with_winners = actions_winner_df.merge(actions_by_top20_clients_df, on='lot_id_bas').\\\n",
    "groupby(by=['ИНН Заказчика','ur_inn_kpp'],as_index=False).\\\n",
    "agg({'actiontype_nm' : 'count'}).\\\n",
    "sort_values(by=['ИНН Заказчика','actiontype_nm'],ascending=False).\\\n",
    "rename(columns={\"ur_inn_kpp\": \"ИНН Победителя\", \"actiontype_nm\": \"Число побед Победителя\"})"
   ]
  },
  {
   "cell_type": "code",
   "execution_count": 9,
   "id": "c5a25f90",
   "metadata": {},
   "outputs": [],
   "source": [
    "# Оставляем только топ-3 вендора для каждого из 20 заказчиков\n",
    "top_clients_with_vendors = actions_customers_with_winners.set_index('ИНН Победителя').\\\n",
    "groupby(\"ИНН Заказчика\")['Число побед Победителя'].\\\n",
    "nlargest(3).\\\n",
    "reset_index()"
   ]
  },
  {
   "cell_type": "code",
   "execution_count": 10,
   "id": "d2417b5d",
   "metadata": {
    "scrolled": true
   },
   "outputs": [],
   "source": [
    "# Вернемся к очередности по общему количеству размещений заказчика\n",
    "top_clients_with_vendors_ordered = top20_clients.merge(top_clients_with_vendors,\n",
    "                                               left_on='ИНН', right_on='ИНН Заказчика')[top_clients_with_vendors.columns]"
   ]
  },
  {
   "cell_type": "code",
   "execution_count": 11,
   "id": "08bce6ae",
   "metadata": {
    "scrolled": false
   },
   "outputs": [
    {
     "data": {
      "text/html": [
       "<div>\n",
       "<style scoped>\n",
       "    .dataframe tbody tr th:only-of-type {\n",
       "        vertical-align: middle;\n",
       "    }\n",
       "\n",
       "    .dataframe tbody tr th {\n",
       "        vertical-align: top;\n",
       "    }\n",
       "\n",
       "    .dataframe thead th {\n",
       "        text-align: right;\n",
       "    }\n",
       "</style>\n",
       "<table border=\"1\" class=\"dataframe\">\n",
       "  <thead>\n",
       "    <tr style=\"text-align: right;\">\n",
       "      <th></th>\n",
       "      <th>ИНН Заказчика</th>\n",
       "      <th>ИНН Победителя</th>\n",
       "      <th>Число побед Победителя</th>\n",
       "    </tr>\n",
       "  </thead>\n",
       "  <tbody>\n",
       "    <tr>\n",
       "      <th>0</th>\n",
       "      <td>7810810000000000000</td>\n",
       "      <td>7719630000000000000</td>\n",
       "      <td>511</td>\n",
       "    </tr>\n",
       "    <tr>\n",
       "      <th>1</th>\n",
       "      <td>7810810000000000000</td>\n",
       "      <td>5047130000000000000</td>\n",
       "      <td>209</td>\n",
       "    </tr>\n",
       "    <tr>\n",
       "      <th>2</th>\n",
       "      <td>7810810000000000000</td>\n",
       "      <td>7743870000000000000</td>\n",
       "      <td>206</td>\n",
       "    </tr>\n",
       "    <tr>\n",
       "      <th>3</th>\n",
       "      <td>6663010000000000000</td>\n",
       "      <td>6673090000000000000</td>\n",
       "      <td>201</td>\n",
       "    </tr>\n",
       "    <tr>\n",
       "      <th>4</th>\n",
       "      <td>6663010000000000000</td>\n",
       "      <td>7817040000000000000</td>\n",
       "      <td>177</td>\n",
       "    </tr>\n",
       "    <tr>\n",
       "      <th>5</th>\n",
       "      <td>6663010000000000000</td>\n",
       "      <td>6673100000000000000</td>\n",
       "      <td>163</td>\n",
       "    </tr>\n",
       "  </tbody>\n",
       "</table>\n",
       "</div>"
      ],
      "text/plain": [
       "        ИНН Заказчика      ИНН Победителя  Число побед Победителя\n",
       "0 7810810000000000000 7719630000000000000                     511\n",
       "1 7810810000000000000 5047130000000000000                     209\n",
       "2 7810810000000000000 7743870000000000000                     206\n",
       "3 6663010000000000000 6673090000000000000                     201\n",
       "4 6663010000000000000 7817040000000000000                     177\n",
       "5 6663010000000000000 6673100000000000000                     163"
      ]
     },
     "execution_count": 11,
     "metadata": {},
     "output_type": "execute_result"
    }
   ],
   "source": [
    "# Смотрим на первые 6 строк полученного массива\n",
    "top_clients_with_vendors_ordered.head(6)"
   ]
  },
  {
   "cell_type": "code",
   "execution_count": 12,
   "id": "c8078f40",
   "metadata": {},
   "outputs": [
    {
     "data": {
      "text/plain": [
       "{5.50107e+18}"
      ]
     },
     "execution_count": 12,
     "metadata": {},
     "output_type": "execute_result"
    }
   ],
   "source": [
    "# Видим, что для ИНН 5501070000000000000 нет записей в конечном массиве данных\n",
    "set(top20_clients['ИНН'].tolist()) - set(top_clients_with_vendors['ИНН Заказчика'].unique().tolist())"
   ]
  },
  {
   "cell_type": "code",
   "execution_count": 13,
   "id": "520b4c70",
   "metadata": {
    "scrolled": true
   },
   "outputs": [],
   "source": [
    "# Отбираем все события по лотам, где заказчиком был ИНН 5501070000000000000\n",
    "lost_inn_actions = actions_df[(actions_df['ur_inn_kpp']==5501070000000000000) &\n",
    "                  (actions_df['actiontype_nm']=='заказчик')]"
   ]
  },
  {
   "cell_type": "code",
   "execution_count": 14,
   "id": "1f86f947",
   "metadata": {
    "scrolled": false
   },
   "outputs": [
    {
     "data": {
      "text/plain": [
       "заказчик       9902\n",
       "организатор    9816\n",
       "Name: actiontype_nm, dtype: int64"
      ]
     },
     "execution_count": 14,
     "metadata": {},
     "output_type": "execute_result"
    }
   ],
   "source": [
    "# Видим, что в 9902 его размещениях ни разу не было победителя\n",
    "actions_df[actions_df['lot_id_bas'].isin(lost_inn_actions['lot_id_bas'].unique().tolist())]['actiontype_nm'].value_counts()"
   ]
  },
  {
   "cell_type": "markdown",
   "id": "aeade59b",
   "metadata": {},
   "source": [
    "# 2) Топ 5 заказчиков по количеству на каждый месяц за прошедшие пол года\n",
    "### мерджить файлы по полям lot_id_bas, section_nm \n",
    "### Дата смотреть по полю timestamp\n",
    "### количество - по количеству lot_id_bas+actiontype_nm+ur_inn_kpp\n"
   ]
  },
  {
   "cell_type": "code",
   "execution_count": 15,
   "id": "47a54c9c",
   "metadata": {},
   "outputs": [],
   "source": [
    "# Копируем исходный массив данных\n",
    "actions_df_2 = dashboard_actions_df.copy()\n",
    "\n",
    "# Преобразуем время в подходящий формат\n",
    "actions_df_2['timestamp'] = pd.to_datetime(actions_df_2['timestamp'].str[:-6], format='%Y-%m-%d %H:%M:%S')"
   ]
  },
  {
   "cell_type": "code",
   "execution_count": 16,
   "id": "826b9b7f",
   "metadata": {},
   "outputs": [
    {
     "data": {
      "text/plain": [
       "Timestamp('2020-12-24 00:00:00')"
      ]
     },
     "execution_count": 16,
     "metadata": {},
     "output_type": "execute_result"
    }
   ],
   "source": [
    "# Смотрим максимальную дату. За прошедшие полгода информации нет, будем рассматривать последние доступные полгода\n",
    "actions_df_2['timestamp'].max()"
   ]
  },
  {
   "cell_type": "code",
   "execution_count": 17,
   "id": "6220fe60",
   "metadata": {},
   "outputs": [],
   "source": [
    "# Оставляем только записи 7 и более месяца 2020 года с действующим лицом \"заказчик\"\n",
    "actions_df_2 = actions_df_2[(actions_df_2['timestamp'].dt.year==2020) &\n",
    "                            (actions_df_2['timestamp'].dt.month>=7)   &\n",
    "                            (actions_df_2['actiontype_nm'] == 'заказчик')]"
   ]
  },
  {
   "cell_type": "code",
   "execution_count": 18,
   "id": "d02c33db",
   "metadata": {},
   "outputs": [],
   "source": [
    "# Вычленяем месяц из даты\n",
    "actions_df_2['Месяц'] = actions_df_2['timestamp'].dt.month"
   ]
  },
  {
   "cell_type": "code",
   "execution_count": 19,
   "id": "f6a4f609",
   "metadata": {},
   "outputs": [],
   "source": [
    "# Группируем по месяцу, ИНН\n",
    "actions_df_2_grouped = actions_df_2.groupby(by=['Месяц','ur_inn_kpp'],as_index=False).\\\n",
    "                        agg({'actiontype_nm' : 'count'}).sort_values(by=['Месяц','actiontype_nm'],ascending=False).\\\n",
    "                        rename(columns={'ur_inn_kpp' : 'ИНН', 'actiontype_nm':'Число размещений'})"
   ]
  },
  {
   "cell_type": "code",
   "execution_count": 20,
   "id": "687c0a24",
   "metadata": {
    "scrolled": true
   },
   "outputs": [],
   "source": [
    "# Оставляем только топ-5 заказчиков по числу размещений по месяцам\n",
    "actions_df_2_grouped = actions_df_2_grouped.set_index('ИНН').groupby(\"Месяц\")['Число размещений'].nlargest(5).reset_index()"
   ]
  },
  {
   "cell_type": "code",
   "execution_count": 21,
   "id": "b757eae3",
   "metadata": {
    "scrolled": true
   },
   "outputs": [
    {
     "data": {
      "text/html": [
       "<div>\n",
       "<style scoped>\n",
       "    .dataframe tbody tr th:only-of-type {\n",
       "        vertical-align: middle;\n",
       "    }\n",
       "\n",
       "    .dataframe tbody tr th {\n",
       "        vertical-align: top;\n",
       "    }\n",
       "\n",
       "    .dataframe thead th {\n",
       "        text-align: right;\n",
       "    }\n",
       "</style>\n",
       "<table border=\"1\" class=\"dataframe\">\n",
       "  <thead>\n",
       "    <tr style=\"text-align: right;\">\n",
       "      <th></th>\n",
       "      <th>Месяц</th>\n",
       "      <th>ИНН</th>\n",
       "      <th>Число размещений</th>\n",
       "    </tr>\n",
       "  </thead>\n",
       "  <tbody>\n",
       "    <tr>\n",
       "      <th>0</th>\n",
       "      <td>7</td>\n",
       "      <td>5501070000000000000</td>\n",
       "      <td>893</td>\n",
       "    </tr>\n",
       "    <tr>\n",
       "      <th>1</th>\n",
       "      <td>7</td>\n",
       "      <td>5260140000000000000</td>\n",
       "      <td>453</td>\n",
       "    </tr>\n",
       "    <tr>\n",
       "      <th>2</th>\n",
       "      <td>7</td>\n",
       "      <td>7810810000000000000</td>\n",
       "      <td>361</td>\n",
       "    </tr>\n",
       "    <tr>\n",
       "      <th>3</th>\n",
       "      <td>7</td>\n",
       "      <td>6663010000000000000</td>\n",
       "      <td>239</td>\n",
       "    </tr>\n",
       "    <tr>\n",
       "      <th>4</th>\n",
       "      <td>7</td>\n",
       "      <td>6673090000000000000</td>\n",
       "      <td>225</td>\n",
       "    </tr>\n",
       "    <tr>\n",
       "      <th>5</th>\n",
       "      <td>8</td>\n",
       "      <td>5260140000000000000</td>\n",
       "      <td>628</td>\n",
       "    </tr>\n",
       "    <tr>\n",
       "      <th>6</th>\n",
       "      <td>8</td>\n",
       "      <td>7810810000000000000</td>\n",
       "      <td>398</td>\n",
       "    </tr>\n",
       "    <tr>\n",
       "      <th>7</th>\n",
       "      <td>8</td>\n",
       "      <td>5501070000000000000</td>\n",
       "      <td>324</td>\n",
       "    </tr>\n",
       "    <tr>\n",
       "      <th>8</th>\n",
       "      <td>8</td>\n",
       "      <td>6665000000000000000</td>\n",
       "      <td>240</td>\n",
       "    </tr>\n",
       "    <tr>\n",
       "      <th>9</th>\n",
       "      <td>8</td>\n",
       "      <td>266049000000000000</td>\n",
       "      <td>200</td>\n",
       "    </tr>\n",
       "  </tbody>\n",
       "</table>\n",
       "</div>"
      ],
      "text/plain": [
       "   Месяц                 ИНН  Число размещений\n",
       "0      7 5501070000000000000               893\n",
       "1      7 5260140000000000000               453\n",
       "2      7 7810810000000000000               361\n",
       "3      7 6663010000000000000               239\n",
       "4      7 6673090000000000000               225\n",
       "5      8 5260140000000000000               628\n",
       "6      8 7810810000000000000               398\n",
       "7      8 5501070000000000000               324\n",
       "8      8 6665000000000000000               240\n",
       "9      8  266049000000000000               200"
      ]
     },
     "execution_count": 21,
     "metadata": {},
     "output_type": "execute_result"
    }
   ],
   "source": [
    "# Смотрим первые 10 строк для понимания результата\n",
    "actions_df_2_grouped.head(10)"
   ]
  },
  {
   "cell_type": "markdown",
   "id": "9d926675",
   "metadata": {},
   "source": [
    "# 3) Выделить из комментариев номер процедуры"
   ]
  },
  {
   "cell_type": "code",
   "execution_count": 22,
   "id": "5cdd6fc3",
   "metadata": {},
   "outputs": [],
   "source": [
    "# Считываем файл\n",
    "procedures_df = pd.read_excel('Задание_аналитик.xlsx')"
   ]
  },
  {
   "cell_type": "code",
   "execution_count": 23,
   "id": "c3eb76cf",
   "metadata": {},
   "outputs": [],
   "source": [
    "# Найдём все числа в каждой записи, выберем наибольшее из них (так как часто встречается однозначный номер лота)\n",
    "numbers_df = procedures_df.copy()\n",
    "\n",
    "numbers_df['Номер процедуры'] = numbers_df['Содержание'].apply(\n",
    "                                lambda x: sorted(\n",
    "                                    [int(y) for y in re.findall(r'\\d+', x)],\n",
    "                                    reverse=True)).\\\n",
    "                                str[0]"
   ]
  },
  {
   "cell_type": "code",
   "execution_count": 24,
   "id": "3aee27a2",
   "metadata": {},
   "outputs": [
    {
     "data": {
      "text/plain": [
       "5      27\n",
       "4      27\n",
       "9      25\n",
       "360    24\n",
       "1      11\n",
       "10      7\n",
       "8       6\n",
       "6       6\n",
       "90      2\n",
       "2       2\n",
       "7       1\n",
       "365     1\n",
       "3       1\n",
       "Name: Номер процедуры, dtype: int64"
      ]
     },
     "execution_count": 24,
     "metadata": {},
     "output_type": "execute_result"
    }
   ],
   "source": [
    "# Проверим количество записей, где, скорее всего, фигурирует номер лота или тарифа в отсутствие номера процедуры. \n",
    "numbers_df[numbers_df['Номер процедуры']<=1000]['Номер процедуры'].value_counts()"
   ]
  },
  {
   "cell_type": "code",
   "execution_count": 25,
   "id": "4020606d",
   "metadata": {},
   "outputs": [],
   "source": [
    "# Заменяем номера лотов, тарифов и записи без чисел на \"Отсутствует\"\n",
    "numbers_df.iloc[numbers_df[numbers_df['Номер процедуры']<=1000].index.tolist(),\n",
    "                numbers_df.columns.get_loc('Номер процедуры')] = 'Отсутствует'\n",
    "\n",
    "numbers_df['Номер процедуры'] = numbers_df['Номер процедуры'].fillna('Отсутствует')"
   ]
  },
  {
   "cell_type": "code",
   "execution_count": 26,
   "id": "546c2213",
   "metadata": {},
   "outputs": [
    {
     "data": {
      "text/html": [
       "<div>\n",
       "<style scoped>\n",
       "    .dataframe tbody tr th:only-of-type {\n",
       "        vertical-align: middle;\n",
       "    }\n",
       "\n",
       "    .dataframe tbody tr th {\n",
       "        vertical-align: top;\n",
       "    }\n",
       "\n",
       "    .dataframe thead th {\n",
       "        text-align: right;\n",
       "    }\n",
       "</style>\n",
       "<table border=\"1\" class=\"dataframe\">\n",
       "  <thead>\n",
       "    <tr style=\"text-align: right;\">\n",
       "      <th></th>\n",
       "      <th>Содержание</th>\n",
       "      <th>Номер процедуры</th>\n",
       "    </tr>\n",
       "  </thead>\n",
       "  <tbody>\n",
       "    <tr>\n",
       "      <th>0</th>\n",
       "      <td>За участие в электронной процедуре (Закупка ма...</td>\n",
       "      <td>152213</td>\n",
       "    </tr>\n",
       "    <tr>\n",
       "      <th>1</th>\n",
       "      <td>Участие в электронной процедуре (Конкурс в эле...</td>\n",
       "      <td>32110882035</td>\n",
       "    </tr>\n",
       "    <tr>\n",
       "      <th>2</th>\n",
       "      <td>За участие в электронной процедуре (Закупка ма...</td>\n",
       "      <td>151059</td>\n",
       "    </tr>\n",
       "    <tr>\n",
       "      <th>3</th>\n",
       "      <td>Участие в электронной процедуре (Запрос предло...</td>\n",
       "      <td>32110998113</td>\n",
       "    </tr>\n",
       "    <tr>\n",
       "      <th>4</th>\n",
       "      <td>За участие в электронной процедуре (Закупка ма...</td>\n",
       "      <td>139657</td>\n",
       "    </tr>\n",
       "  </tbody>\n",
       "</table>\n",
       "</div>"
      ],
      "text/plain": [
       "                                          Содержание Номер процедуры\n",
       "0  За участие в электронной процедуре (Закупка ма...          152213\n",
       "1  Участие в электронной процедуре (Конкурс в эле...     32110882035\n",
       "2  За участие в электронной процедуре (Закупка ма...          151059\n",
       "3  Участие в электронной процедуре (Запрос предло...     32110998113\n",
       "4  За участие в электронной процедуре (Закупка ма...          139657"
      ]
     },
     "execution_count": 26,
     "metadata": {},
     "output_type": "execute_result"
    }
   ],
   "source": [
    "# Смотрим первые 5 строк для понимания результата\n",
    "numbers_df.head()"
   ]
  }
 ],
 "metadata": {
  "kernelspec": {
   "display_name": "Python 3 (ipykernel)",
   "language": "python",
   "name": "python3"
  },
  "language_info": {
   "codemirror_mode": {
    "name": "ipython",
    "version": 3
   },
   "file_extension": ".py",
   "mimetype": "text/x-python",
   "name": "python",
   "nbconvert_exporter": "python",
   "pygments_lexer": "ipython3",
   "version": "3.10.9"
  }
 },
 "nbformat": 4,
 "nbformat_minor": 5
}
